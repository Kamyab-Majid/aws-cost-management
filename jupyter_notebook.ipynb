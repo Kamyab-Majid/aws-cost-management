{
 "cells": [
  {
   "cell_type": "code",
   "execution_count": 6,
   "metadata": {},
   "outputs": [
    {
     "name": "stdout",
     "output_type": "stream",
     "text": [
      "SCRIPT_NAME\n",
      "run_glue_job.py                                18.430785\n",
      "vendor_to_raw_v2.py                            12.547904\n",
      "alacrity_to_raw.py                              6.401452\n",
      "tm_us_scheduler.py                              5.730409\n",
      "raw_to_refined_fan.py                           5.377076\n",
      "athena_upsert_tm_us_scheduler.py                3.990293\n",
      "one_trust_extract_json.py                       3.694552\n",
      "Agility_Merge.py                                3.685825\n",
      "google_trends.py                                3.105658\n",
      "tm_us_from_dropzone_scheduler.py                3.065658\n",
      "process_nfl_to_acxiom_using_delta_v2.py         2.346818\n",
      "refined_to_vendor.py                            2.338761\n",
      "cleeng_transaction_pipeline.py                  1.999485\n",
      "feed_pii_hash_mapping.py                        1.756514\n",
      "golden_records_club_files_to_azure.py           1.588530\n",
      "socialbakers.py                                 1.435056\n",
      "clubs_acxiom_to_nfl_using_delta_step2_v2.py     1.426038\n",
      "DataValidation.py                               1.378148\n",
      "aep_feed_log.py                                 1.340343\n",
      "clubs_acxiom_to_nfl_using_delta_step1_v2.py     1.085028\n",
      "Name: Duration, dtype: float64\n"
     ]
    },
    {
     "name": "stderr",
     "output_type": "stream",
     "text": [
      "C:\\Users\\majid.kamyab\\AppData\\Local\\Temp\\ipykernel_3400\\901627813.py:4: DtypeWarning: Columns (49,51,53,68,69,93,94,95,96,97,98,99,101,102,103,104,105,106,107,108,109,110,111,112,113,114,115,116,117,118,119,120,121,122,123,124,125,128,130) have mixed types. Specify dtype option on import or set low_memory=False.\n",
      "  df = pd.read_csv('batch_job_details_pandas.csv')\n"
     ]
    }
   ],
   "source": [
    "import pandas as pd\n",
    "\n",
    "# Step 1: Read DataFrame from file\n",
    "df = pd.read_csv('batch_job_details_pandas.csv')\n",
    "\n",
    "# Step 2: Group by a column name (replace 'column_name' with the actual column name you want to group by)\n",
    "grouped_df = df.groupby('SCRIPT_NAME')\n",
    "\n",
    "# Step 3: Calculate the sum of 'duration' within each group\n",
    "sum_duration = grouped_df['Duration'].sum()\n",
    "\n",
    "# Step 4: Sort DataFrame based on the sum of 'duration' in descending order\n",
    "sorted_df = sum_duration.sort_values(ascending=False)/4928717.215999999*100\n",
    "\n",
    "# Step 5: Take the top 10 rows\n",
    "top_10_rows = sorted_df.head(20)\n",
    "\n",
    "# Display the result\n",
    "print(top_10_rows)\n"
   ]
  },
  {
   "cell_type": "code",
   "execution_count": 3,
   "metadata": {},
   "outputs": [
    {
     "data": {
      "text/plain": [
       "4928717.215999999"
      ]
     },
     "execution_count": 3,
     "metadata": {},
     "output_type": "execute_result"
    }
   ],
   "source": [
    "sorted_df.sum()"
   ]
  },
  {
   "cell_type": "code",
   "execution_count": null,
   "metadata": {},
   "outputs": [],
   "source": []
  }
 ],
 "metadata": {
  "kernelspec": {
   "display_name": "new_cdk",
   "language": "python",
   "name": "python3"
  },
  "language_info": {
   "codemirror_mode": {
    "name": "ipython",
    "version": 3
   },
   "file_extension": ".py",
   "mimetype": "text/x-python",
   "name": "python",
   "nbconvert_exporter": "python",
   "pygments_lexer": "ipython3",
   "version": "3.12.0"
  }
 },
 "nbformat": 4,
 "nbformat_minor": 2
}
